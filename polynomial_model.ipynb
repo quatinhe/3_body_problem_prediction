{
 "cells": [
  {
   "cell_type": "code",
   "execution_count": null,
   "metadata": {
    "vscode": {
     "languageId": "plaintext"
    }
   },
   "outputs": [],
   "source": [
    "import numpy as np\n",
    "import pandas as pd\n",
    "from sklearn.model_selection import train_test_split\n",
    "from sklearn.preprocessing import StandardScaler\n",
    "from sklearn.linear_model import LinearRegression\n",
    "from sklearn.pipeline import Pipeline\n",
    "import matplotlib.pyplot as plt  \n",
    "from sklearn.metrics import mean_squared_error\n",
    "from sklearn.utils import shuffle\n",
    "from sklearn.preprocessing import PolynomialFeatures\n",
    "import seaborn as sns"
   ]
  },
  {
   "cell_type": "code",
   "execution_count": null,
   "metadata": {
    "vscode": {
     "languageId": "plaintext"
    }
   },
   "outputs": [],
   "source": [
    "# Load the data\n",
    "X_train = pd.read_csv('X_train.csv')\n",
    "test_df = pd.read_csv('X_test.csv')\n",
    "\n",
    "# Step 1: Filter out post-collision data\n",
    "collision_filter = (X_train['x_1'] == 0) & (X_train['y_1'] == 0) & (X_train['x_2'] == 0) & (X_train['y_2'] == 0) & (X_train['x_3'] == 0) & (X_train['y_3'] == 0)\n",
    "X_train_filtered = X_train[~collision_filter]\n",
    "\n",
    "# Step 2: Identify unique initial positions\n",
    "initial_conditions = X_train_filtered[X_train_filtered['t'] == 0].copy()\n",
    "\n",
    "\n",
    "###test###\n",
    "# Filter initial conditions at t=0\n",
    "initial_conditions_test = test_df[test_df['t'] == 0]\n",
    "test_features_df = initial_conditions_test[['x0_1', 'y0_1', 'x0_2', 'y0_2', 'x0_3', 'y0_3']]\n",
    "\n",
    "###end test###\n",
    "\n",
    "# Create a unique identifier based on rounded initial positions\n",
    "initial_conditions['trajectory_id'] = (\n",
    "    initial_conditions['x_1'].round(6).astype(str) + '_' +\n",
    "    initial_conditions['y_1'].round(6).astype(str) + '_' +\n",
    "    initial_conditions['x_2'].round(6).astype(str) + '_' +\n",
    "    initial_conditions['y_2'].round(6).astype(str) + '_' +\n",
    "    initial_conditions['x_3'].round(6).astype(str) + '_' +\n",
    "    initial_conditions['y_3'].round(6).astype(str)\n",
    ").astype('category').cat.codes\n",
    "\n",
    "\n",
    "\n",
    "# Map this identifier back to the main dataframe based on match at t=0\n",
    "X_train_filtered = X_train_filtered.merge(initial_conditions[['trajectory_id', 't', 'x_1', 'y_1', 'x_2', 'y_2', 'x_3', 'y_3']],\n",
    "                                          on=['t', 'x_1', 'y_1', 'x_2', 'y_2', 'x_3', 'y_3'],\n",
    "                                          how='left')\n",
    "\n",
    "# Fill missing trajectory_ids for the rest of the times using forward fill\n",
    "X_train_filtered['trajectory_id'] = X_train_filtered['trajectory_id'].ffill()\n",
    "\n",
    "# Organize data by trajectory ID without using lambda\n",
    "trajectories = {}\n",
    "for trajectory_id in X_train_filtered['trajectory_id'].unique():\n",
    "    trajectory_data = X_train_filtered[X_train_filtered['trajectory_id'] == trajectory_id]\n",
    "    trajectory_data_sorted = trajectory_data.sort_values(by='t')\n",
    "    trajectories[trajectory_id] = trajectory_data_sorted[['x_1', 'y_1', 'x_2', 'y_2', 'x_3', 'y_3']].values.flatten()"
   ]
  }
 ],
 "metadata": {
  "language_info": {
   "name": "python"
  }
 },
 "nbformat": 4,
 "nbformat_minor": 2
}
